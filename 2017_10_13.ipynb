{
 "cells": [
  {
   "cell_type": "code",
   "execution_count": 45,
   "metadata": {},
   "outputs": [
    {
     "data": {
      "text/plain": [
       ":to_plotly"
      ]
     },
     "execution_count": 45,
     "metadata": {},
     "output_type": "execute_result"
    }
   ],
   "source": [
    "require 'erb'\n",
    "require 'rbplotly'\n",
    "\n",
    "class String\n",
    "  def to_df\n",
    "    DF.new(self)\n",
    "  end\n",
    "end\n",
    "\n",
    "class DF < Array\n",
    "  attr_accessor :headers\n",
    "\n",
    "  def initialize(str)\n",
    "    @headers = str.lines.first.split(',').map(&:strip)\n",
    "    bodies = str.lines.drop(1).map { |line| line.split(',').map(&:strip).map(&:to_f) }\n",
    "    super(bodies.map do |row|\n",
    "      @headers.zip(row).to_h\n",
    "    end.to_a)\n",
    "  end  \n",
    "\n",
    "  def to_html\n",
    "    erb = ERB.new <<TEMPLATE\n",
    "<table>\n",
    "  <tr>\n",
    "  <% self.headers.each do |header| %>\n",
    "    <th><%= header %></th>\n",
    "  <% end %>\n",
    "  </tr>\n",
    "\n",
    "  <% self.each do |row| %>\n",
    "    <tr>\n",
    "    <% self.headers.each do |header| %>\n",
    "      <td><%= row[header] %></td>\n",
    "    <% end %>\n",
    "    </tr>\n",
    "  <% end %>\n",
    "</table>\n",
    "TEMPLATE\n",
    "    erb.result(binding)\n",
    "  end\n",
    "\n",
    "  def to_plotly(targets: [{ x: 'x', y: 'y' }], type: :scatter, mode: :markers, layout: {})\n",
    "    data = targets.map do |target|\n",
    "      x_axis_name = target[:x]\n",
    "      y_axis_name = target[:y]\n",
    "      xs = self.map { |row| row[x_axis_name] }\n",
    "      ys = self.map { |row| row[y_axis_name] }\n",
    "      trace = { x: xs, y: ys, type: type, mode: mode }\n",
    "\n",
    "      trace\n",
    "    end\n",
    "\n",
    "    Plotly::Plot.new(data: p(data), layout: layout)\n",
    "  end\n",
    "end"
   ]
  },
  {
   "cell_type": "code",
   "execution_count": 46,
   "metadata": {},
   "outputs": [
    {
     "name": "stdout",
     "output_type": "stream",
     "text": [
      "[{:x=>[0.0, 0.01, 0.02, 0.03, 0.04, 0.05, 0.06, 0.07, 0.08, 0.09, 0.1, 0.105, 0.11, 0.115, 0.12, 0.125, 0.13, 0.135, 0.14, 0.145, 0.15, 0.155, 0.16, 0.165, 0.17, 0.175, 0.18, 0.185, 0.19, 0.195, 0.2, 0.21, 0.22, 0.23, 0.24, 0.25, 0.26, 0.27, 0.28, 0.29, 0.3, 0.31, 0.32, 0.33, 0.34, 0.35, 0.36, 0.37, 0.38, 0.39, 0.4], :y=>[48.181, 48.064, 47.871, 47.605, 47.401, 47.242, 47.102, 46.702, 46.612, 46.172, 45.651, 45.153, 44.489, 43.653, 42.527, 41.123, 39.102, 36.342, 32.784, 28.525, 23.331, 18.245, 14.124, 10.892, 8.687, 6.891, 5.655, 4.682, 3.973, 3.374, 2.947, 2.091, 1.642, 1.341, 1.142, 0.973, 0.851, 0.751, 0.682, 0.637, 0.594, 0.546, 0.517, 0.493, 0.474, 0.465, 0.447, 0.422, 0.413, 0.413, 0.404], :type=>:scatter, :mode=>:markers}]\n"
     ]
    },
    {
     "data": {
      "text/html": [
       "\n",
       "  <script>\n",
       "  requirejs.config({paths: { 'plotly': ['https://cdn.plot.ly/plotly-latest.min'] }})\n",
       "  </script>\n",
       "\n",
       "\n",
       "<div id=\"67b98e38-df2e-4584-aac3-81051f9ac33f\" style=\"height: 100%; width: 100%;\"></div>\n",
       "\n",
       "<script>\n",
       " require(['plotly'], function(Plotly) { \n",
       "Plotly.newPlot(\n",
       "  '67b98e38-df2e-4584-aac3-81051f9ac33f',\n",
       "  [{\"x\":[0.0,0.01,0.02,0.03,0.04,0.05,0.06,0.07,0.08,0.09,0.1,0.105,0.11,0.115,0.12,0.125,0.13,0.135,0.14,0.145,0.15,0.155,0.16,0.165,0.17,0.175,0.18,0.185,0.19,0.195,0.2,0.21,0.22,0.23,0.24,0.25,0.26,0.27,0.28,0.29,0.3,0.31,0.32,0.33,0.34,0.35,0.36,0.37,0.38,0.39,0.4],\"y\":[48.181,48.064,47.871,47.605,47.401,47.242,47.102,46.702,46.612,46.172,45.651,45.153,44.489,43.653,42.527,41.123,39.102,36.342,32.784,28.525,23.331,18.245,14.124,10.892,8.687,6.891,5.655,4.682,3.973,3.374,2.947,2.091,1.642,1.341,1.142,0.973,0.851,0.751,0.682,0.637,0.594,0.546,0.517,0.493,0.474,0.465,0.447,0.422,0.413,0.413,0.404],\"type\":\"scatter\",\"mode\":\"markers\"}],\n",
       "  {},\n",
       "  {\"linkText\":\"Export to plot.ly\",\"showLink\":true}\n",
       ")\n",
       "\n",
       "window.addEventListener('resize', function() {\n",
       "  Plotly.Plots.resize(document.getElementById('67b98e38-df2e-4584-aac3-81051f9ac33f'))\n",
       "})\n",
       " }) \n",
       "</script>"
      ],
      "text/plain": [
       "#<Plotly::Offline::HTML:0x007fc1c340d4b8 @id=\"67b98e38-df2e-4584-aac3-81051f9ac33f\", @data=[{:x=>[0.0, 0.01, 0.02, 0.03, 0.04, 0.05, 0.06, 0.07, 0.08, 0.09, 0.1, 0.105, 0.11, 0.115, 0.12, 0.125, 0.13, 0.135, 0.14, 0.145, 0.15, 0.155, 0.16, 0.165, 0.17, 0.175, 0.18, 0.185, 0.19, 0.195, 0.2, 0.21, 0.22, 0.23, 0.24, 0.25, 0.26, 0.27, 0.28, 0.29, 0.3, 0.31, 0.32, 0.33, 0.34, 0.35, 0.36, 0.37, 0.38, 0.39, 0.4], :y=>[48.181, 48.064, 47.871, 47.605, 47.401, 47.242, 47.102, 46.702, 46.612, 46.172, 45.651, 45.153, 44.489, 43.653, 42.527, 41.123, 39.102, 36.342, 32.784, 28.525, 23.331, 18.245, 14.124, 10.892, 8.687, 6.891, 5.655, 4.682, 3.973, 3.374, 2.947, 2.091, 1.642, 1.341, 1.142, 0.973, 0.851, 0.751, 0.682, 0.637, 0.594, 0.546, 0.517, 0.493, 0.474, 0.465, 0.447, 0.422, 0.413, 0.413, 0.404], :type=>:scatter, :mode=>:markers}], @layout={}, @config={:linkText=>\"Export to plot.ly\", :showLink=>true}, @embedded=true>"
      ]
     },
     "metadata": {},
     "output_type": "display_data"
    },
    {
     "data": {
      "text/plain": [
       "#<CZTop::Socket::PUB:0x7fc1c4c6ff50 last_endpoint=\"tcp://127.0.0.1:62622\">"
      ]
     },
     "execution_count": 46,
     "metadata": {},
     "output_type": "execute_result"
    }
   ],
   "source": [
    "jikken_b_1 = <<DATA.to_df\n",
    "x, vh\n",
    "0   , 48.181\n",
    "0.01, 48.064\n",
    "0.02, 47.871\n",
    "0.03, 47.605\n",
    "0.04, 47.401\n",
    "0.05, 47.242\n",
    "0.06, 47.102\n",
    "0.07, 46.702\n",
    "0.08, 46.612\n",
    "0.09, 46.172\n",
    "0.100, 45.651\n",
    "0.105, 45.153\n",
    "0.110, 44.489\n",
    "0.115, 43.653\n",
    "0.120, 42.527\n",
    "0.125, 41.123\n",
    "0.130, 39.102\n",
    "0.135, 36.342\n",
    "0.140, 32.784\n",
    "0.145, 28.525\n",
    "0.150, 23.331\n",
    "0.155, 18.245\n",
    "0.160, 14.124\n",
    "0.165, 10.892\n",
    "0.170, 8.687\n",
    "0.175, 6.891\n",
    "0.180, 5.655\n",
    "0.185, 4.682\n",
    "0.190, 3.973\n",
    "0.195, 3.374\n",
    "0.200, 2.947\n",
    "0.21, 2.091\n",
    "0.22, 1.642\n",
    "0.23, 1.341\n",
    "0.24, 1.142\n",
    "0.25, 0.973\n",
    "0.26, 0.851\n",
    "0.27, 0.751\n",
    "0.28, 0.682\n",
    "0.29, 0.637\n",
    "0.30, 0.594\n",
    "0.31, 0.546\n",
    "0.32, 0.517\n",
    "0.33, 0.493\n",
    "0.34, 0.474\n",
    "0.35, 0.465\n",
    "0.36, 0.447\n",
    "0.37, 0.422\n",
    "0.38, 0.413\n",
    "0.39, 0.413\n",
    "0.40, 0.404\n",
    "DATA\n",
    "jikken_b_1.to_plotly(targets: [{ x: 'x', y: 'vh' }]).show"
   ]
  }
 ],
 "metadata": {
  "kernelspec": {
   "display_name": "Ruby 2.3.2",
   "language": "ruby",
   "name": "ruby"
  },
  "language_info": {
   "file_extension": ".rb",
   "mimetype": "application/x-ruby",
   "name": "ruby",
   "version": "2.3.2"
  }
 },
 "nbformat": 4,
 "nbformat_minor": 2
}
