{
 "cells": [
  {
   "cell_type": "code",
   "execution_count": 1,
   "metadata": {},
   "outputs": [
    {
     "data": {
      "text/plain": [
       "true"
      ]
     },
     "execution_count": 1,
     "metadata": {},
     "output_type": "execute_result"
    }
   ],
   "source": [
    "require './moromoro'"
   ]
  },
  {
   "cell_type": "code",
   "execution_count": 2,
   "metadata": {},
   "outputs": [],
   "source": [
    "a_2 = <<DATA.to_df\n",
    "I_H[mA], V_H[mV]\n",
    "0, 0,\n",
    "1, 0.967\n",
    "2, 1.979\n",
    "3, 2.854\n",
    "4, 3.816\n",
    "5, 4.784\n",
    "6, 5.765\n",
    "7, 6.763\n",
    "8, 7.802\n",
    "9, 8.864\n",
    "10, 9.972\n",
    "DATA\n",
    "a_2.map{ |row| row.merge('V_H[mV]' => \"%.1f\" % row['V_H[mV]'].round(1)) }.save_csv('csv/jikken_a_2.csv')\n",
    "nil"
   ]
  },
  {
   "cell_type": "code",
   "execution_count": 3,
   "metadata": {},
   "outputs": [],
   "source": [
    "a_3 = <<DATA.to_df\n",
    "I_H[mA], V_H[mV]\n",
    "0, 0\n",
    "1, 4.096\n",
    "2, 8.054\n",
    "3, 12.710\n",
    "4, 15.949\n",
    "5, 19.857\n",
    "6, 23.741\n",
    "7, 27.594\n",
    "8, 31.406\n",
    "9, 35.157\n",
    "10, 38.857\n",
    "DATA\n",
    "a_3.map{ |row| row.merge('V_H[mV]' => \"%.1f\" % row['V_H[mV]'].round(1)) }.save_csv('csv/jikken_a_3.csv')\n",
    "nil"
   ]
  },
  {
   "cell_type": "code",
   "execution_count": 4,
   "metadata": {},
   "outputs": [],
   "source": [
    "a_4 = <<DATA.to_df\n",
    "I_{mag}[A], V_H[mV]\n",
    "0.0, 0.0\n",
    "0.1, 4.501\n",
    "0.2, 9.382\n",
    "0.3, 14.257\n",
    "0.4, 18.882\n",
    "0.5, 24.019\n",
    "0.6, 28.621\n",
    "0.7, 33.497\n",
    "0.8, 38.357\n",
    "0.9, 43.245\n",
    "1.0, 48.103\n",
    "DATA\n",
    "a_4.map{ |row| row.merge('V_H[mV]' => \"%.1f\" % row['V_H[mV]'].round(1)) }.save_csv('csv/jikken_a_4.csv')\n",
    "nil"
   ]
  },
  {
   "cell_type": "code",
   "execution_count": 5,
   "metadata": {},
   "outputs": [
    {
     "data": {
      "text/plain": [
       "\"csv/jikken_b_1.csv\""
      ]
     },
     "execution_count": 5,
     "metadata": {},
     "output_type": "execute_result"
    }
   ],
   "source": [
    "jikken_b_1 = <<DATA.to_df\n",
    "x[m], V_H[mV]\n",
    "0   , 48.181\n",
    "0.010, 48.064\n",
    "0.020, 47.871\n",
    "0.030, 47.605\n",
    "0.040, 47.401\n",
    "0.050, 47.242\n",
    "0.060, 47.102\n",
    "0.070, 46.702\n",
    "0.080, 46.612\n",
    "0.090, 46.172\n",
    "0.100, 45.651\n",
    "0.105, 45.153\n",
    "0.110, 44.489\n",
    "0.115, 43.653\n",
    "0.120, 42.527\n",
    "0.125, 41.123\n",
    "0.130, 39.102\n",
    "0.135, 36.342\n",
    "0.140, 32.784\n",
    "0.145, 28.525\n",
    "0.150, 23.331\n",
    "0.155, 18.245\n",
    "0.160, 14.124\n",
    "0.165, 10.892\n",
    "0.170, 8.687\n",
    "0.175, 6.891\n",
    "0.180, 5.655\n",
    "0.185, 4.682\n",
    "0.190, 3.973\n",
    "0.195, 3.374\n",
    "0.200, 2.947\n",
    "0.210, 2.091\n",
    "0.220, 1.642\n",
    "0.230, 1.341\n",
    "0.240, 1.142\n",
    "0.250, 0.973\n",
    "0.260, 0.851\n",
    "0.270, 0.751\n",
    "0.280, 0.682\n",
    "0.290, 0.637\n",
    "0.300, 0.594\n",
    "0.310, 0.546\n",
    "0.320, 0.517\n",
    "0.330, 0.493\n",
    "0.340, 0.474\n",
    "0.350, 0.465\n",
    "0.360, 0.447\n",
    "0.370, 0.422\n",
    "0.380, 0.413\n",
    "0.390, 0.413\n",
    "0.400, 0.404\n",
    "DATA\n",
    "jikken_b_1.map{ |row| row.merge('x[m]' => \"%.3f\" % row['x[m]']) }.save_csv('csv/jikken_b_1.csv')"
   ]
  },
  {
   "cell_type": "code",
   "execution_count": 6,
   "metadata": {},
   "outputs": [
    {
     "data": {
      "text/plain": [
       "\"csv/jikken_b_2.csv\""
      ]
     },
     "execution_count": 6,
     "metadata": {},
     "output_type": "execute_result"
    }
   ],
   "source": [
    "jikken_b_2 = <<DATA.to_df\n",
    "y[m], V_H[mV]\n",
    "0,    -0.113\n",
    "0.01, -0.137\n",
    "0.02, -0.167\n",
    "0.04, -0.223\n",
    "0.06, -0.307\n",
    "0.08, -0.427\n",
    "0.10, -0.604\n",
    "0.11, -0.730\n",
    "0.12, -0.923\n",
    "0.13, -1.159\n",
    "0.14, -1.453\n",
    "0.15, -1.901\n",
    "0.16, -2.465\n",
    "0.17, -3.072\n",
    "0.18, -3.454\n",
    "0.19, -3.092\n",
    "0.195, -2.542\n",
    "0.200, -1.950\n",
    "0.205, -1.003\n",
    "0.210, -0.125\n",
    "0.215, 0.821\n",
    "0.220, 1.694\n",
    "0.225, 2.443\n",
    "0.230, 3.030\n",
    "0.235, 3.389\n",
    "0.24, 3.464\n",
    "0.25, 3.192\n",
    "0.26, 2.619\n",
    "0.27, 2.063\n",
    "0.28, 1.637\n",
    "0.29, 1.301\n",
    "0.30, 1.062\n",
    "0.31, 0.885\n",
    "0.32, 0.754\n",
    "0.34, 0.572\n",
    "0.36, 0.446\n",
    "0.38, 0.373\n",
    "0.40, 0.310\n",
    "DATA\n",
    "jikken_b_2.map{ |row| row.merge('y[m]' => \"%.3f\" % row['y[m]']) }.save_csv('csv/jikken_b_2.csv')"
   ]
  },
  {
   "cell_type": "markdown",
   "metadata": {},
   "source": [
    "# 実験データ"
   ]
  },
  {
   "cell_type": "markdown",
   "metadata": {},
   "source": [
    "## 実験(a)"
   ]
  },
  {
   "cell_type": "code",
   "execution_count": 7,
   "metadata": {},
   "outputs": [],
   "source": [
    "a_2.plot(\n",
    "  targets: [{ x: 'I_H[mA]', y: 'V_H[mV]' }],\n",
    "  options: {\n",
    "    xl: 'I_H[mA]',\n",
    "    yl: 'V_H[mV]'\n",
    "  },\n",
    "  file: 'graph/jikken_a_2.png'\n",
    ")"
   ]
  },
  {
   "cell_type": "code",
   "execution_count": 8,
   "metadata": {},
   "outputs": [],
   "source": [
    "a_3.plot(\n",
    "  targets: [{ x: 'I_H[mA]', y: 'V_H[mV]' }],\n",
    "  options: {\n",
    "    xl: 'I_H[mA]',\n",
    "    yl: 'V_H[mV]'\n",
    "  },\n",
    "  file: 'graph/jikken_a_3.png'\n",
    ")"
   ]
  },
  {
   "cell_type": "code",
   "execution_count": 9,
   "metadata": {},
   "outputs": [
    {
     "data": {
      "text/plain": [
       "414.5756505935926"
      ]
     },
     "execution_count": 9,
     "metadata": {},
     "output_type": "execute_result"
    }
   ],
   "source": [
    "a_4_with_h = a_4.map { |row| row.merge('H[A/m]' => row['I_{mag}[A]'] * 20000.0) }.to_a.to_df\n",
    "a_4_with_h.slope(x: 'V_H[mV]', y: 'H[A/m]')"
   ]
  },
  {
   "cell_type": "code",
   "execution_count": 10,
   "metadata": {
    "scrolled": true
   },
   "outputs": [
    {
     "data": {
      "text/plain": [
       "92.99874385144358"
      ]
     },
     "execution_count": 10,
     "metadata": {},
     "output_type": "execute_result"
    }
   ],
   "source": [
    "a_4_with_h.segment(x: 'V_H[mV]', y: 'H[A/m]')"
   ]
  },
  {
   "cell_type": "code",
   "execution_count": 11,
   "metadata": {},
   "outputs": [],
   "source": [
    "# mV to H\n",
    "def convert_vh_to_h(vh)\n",
    "  414.5756505935926 * vh\n",
    "end\n",
    "\n",
    "a_4_with_h.plot(\n",
    "  targets: [{ x: 'H[A/m]', y: 'V_H[mV]' }],\n",
    "  options: {\n",
    "    xl: 'H[A/m]',\n",
    "    yl: 'V_H[mV]'\n",
    "  },\n",
    "  file: 'graph/jikken_a_4.png'\n",
    ")"
   ]
  },
  {
   "cell_type": "markdown",
   "metadata": {},
   "source": [
    "## 実験(b)"
   ]
  },
  {
   "cell_type": "code",
   "execution_count": 12,
   "metadata": {
    "scrolled": false
   },
   "outputs": [],
   "source": [
    "jikken_b_1.map{ |row| row.merge('h[A/m]' => (convert_vh_to_h(row['V_H[mV]']))) }.to_a.to_df.plot(\n",
    "  targets: [{ x: 'x[m]', y: 'h[A/m]', title: '磁場' }],\n",
    "  options: {\n",
    "    xl: 'x[m]',\n",
    "    yl: 'H[A/m]'\n",
    "  },\n",
    "  file: 'graph/jikken_b_1.png'\n",
    ")"
   ]
  },
  {
   "cell_type": "code",
   "execution_count": 13,
   "metadata": {},
   "outputs": [],
   "source": [
    "b_2_with_offset = jikken_b_2.map { |row| row.merge('y[m]' => row['y[m]'] - 0.21) }\n",
    "b_2_with_offset.map{ |row| row.merge('h[A/m]' => convert_vh_to_h(row['V_H[mV]'])) }.to_a.to_df.plot(\n",
    "  targets: [{ x: 'y[m]', y: 'h[A/m]', title: '磁場' }],\n",
    "  options: {\n",
    "    xl: 'y[m]',\n",
    "    yl: 'H[A/m]'\n",
    "  },\n",
    "  file: 'graph/jikken_b_2.png'\n",
    ")"
   ]
  },
  {
   "cell_type": "markdown",
   "metadata": {},
   "source": [
    "# 検討"
   ]
  },
  {
   "cell_type": "markdown",
   "metadata": {},
   "source": [
    "## 磁場の変化を見る"
   ]
  },
  {
   "cell_type": "code",
   "execution_count": 14,
   "metadata": {},
   "outputs": [],
   "source": [
    "b_1 = jikken_b_1\n",
    "b_1_with_differential = b_1.to_a.zip(b_1.to_a.drop(1))[0...-1].map do |current_row, next_row|\n",
    "  differential = (convert_vh_to_h(next_row['V_H[mV]']) - convert_vh_to_h(current_row['V_H[mV]']))/(next_row['x[m]'] - current_row['x[m]'])\n",
    "  current_row.merge('differential' => differential)\n",
    "end.to_df\n",
    "\n",
    "b_1_with_differential.plot(\n",
    "  targets: [{x: 'x[m]', y: 'differential', title: 'dH/dx'}],\n",
    "  options: {\n",
    "    xl: 'x(m)',\n",
    "    yl: 'dH/dx'\n",
    "  },\n",
    "  file: 'graph/jikken_b_1_differential.png'\n",
    ")"
   ]
  },
  {
   "cell_type": "markdown",
   "metadata": {},
   "source": [
    "$$\n",
    "0.07 \\lt x \\lt 0.15 (m)\n",
    "$$\n",
    "において$H$は変化している"
   ]
  },
  {
   "cell_type": "code",
   "execution_count": 15,
   "metadata": {
    "scrolled": false
   },
   "outputs": [],
   "source": [
    "b_2_with_differential = b_2_with_offset.to_a.zip(b_2_with_offset.to_a.drop(1))[0...-1].map do |current_row, next_row|\n",
    "  differential = (convert_vh_to_h(next_row['V_H[mV]']) - convert_vh_to_h(current_row['V_H[mV]']))/(next_row['y[m]'] - current_row['y[m]'])\n",
    "  current_row.merge('differential' => differential)\n",
    "end.to_df\n",
    "\n",
    "b_2_with_differential.plot(\n",
    "  targets: [{x: 'y[m]', y: 'differential', title: 'dH/dy'}],\n",
    "  options: {\n",
    "    xl: 'y[m]',\n",
    "    yl: 'dH/dy'\n",
    "  },\n",
    "  file: 'graph/jikken_b_2_differential.png'\n",
    ")"
   ]
  },
  {
   "cell_type": "markdown",
   "metadata": {},
   "source": [
    "$$\n",
    "-0.15 \\lt y \\lt 0.15 (m)\n",
    "$$\n",
    "において$H$は変化している"
   ]
  },
  {
   "cell_type": "code",
   "execution_count": 16,
   "metadata": {},
   "outputs": [
    {
     "name": "stdout",
     "output_type": "stream",
     "text": [
      "-430661.18583662354\n",
      "78437.71309230765\n",
      "div H = -2.74e+05\n"
     ]
    }
   ],
   "source": [
    "dh_dx_at_x_0 = p b_1_with_differential.find { |row| row['x[m]'] == 0.145 }['differential']\n",
    "dh_dy_at_y_0 = p b_2_with_differential.find { |row| row['y[m]'] == 0.0 }['differential']\n",
    "puts \"div H = #{\"%.2e\" % (dh_dx_at_x_0 + dh_dy_at_y_0 * 2)}\""
   ]
  },
  {
   "cell_type": "code",
   "execution_count": 17,
   "metadata": {},
   "outputs": [
    {
     "data": {
      "text/plain": [
       "7.957747154594767e-06"
      ]
     },
     "execution_count": 17,
     "metadata": {},
     "output_type": "execute_result"
    }
   ],
   "source": [
    "#require 'math'\n",
    "a = 0.3/(Math::PI*6000*2)"
   ]
  },
  {
   "cell_type": "code",
   "execution_count": 18,
   "metadata": {},
   "outputs": [
    {
     "data": {
      "text/plain": [
       ":h_by_x"
      ]
     },
     "execution_count": 18,
     "metadata": {},
     "output_type": "execute_result"
    }
   ],
   "source": [
    "def h_by_x(x)\n",
    "  n = 20000.0\n",
    "  i = 1.0\n",
    "  l = 0.15\n",
    "  a = 0.025 #適当\n",
    "  n*i/2.0*((x+l)/Math.sqrt(a**2+(x+l)**2) - (x-l)/(Math.sqrt(a**2+(x-l)**2)))\n",
    "end"
   ]
  },
  {
   "cell_type": "code",
   "execution_count": 19,
   "metadata": {},
   "outputs": [],
   "source": [
    "hoge = jikken_b_1.map do |row|\n",
    "  row.merge(\n",
    "    'h_by_calc' => h_by_x(row['x[m]']),\n",
    "    'h_by_jikken' => convert_vh_to_h(row['V_H[mV]']),\n",
    "  )\n",
    "end.to_df\n",
    "hoge.plot(\n",
    "  targets: [{x: 'x[m]', y: 'h_by_jikken', title: 'result'}, {x: 'x[m]', y: 'h_by_calc', title: 'theoretical'}],\n",
    "  options: {\n",
    "    xl: 'x[m]',\n",
    "    yl: 'H[A/m]',\n",
    "    key: 'box'\n",
    "  },\n",
    "  file: 'graph/jikken_b_1_theoretical_comparizon.png'\n",
    ")"
   ]
  },
  {
   "cell_type": "code",
   "execution_count": 20,
   "metadata": {},
   "outputs": [],
   "source": [
    "gosa_df = hoge.map do |row|\n",
    "  zettai_gosa = (row['h_by_calc'] - row['h_by_jikken']).abs\n",
    "  soutai_gosa = zettai_gosa / row['h_by_calc'] * 100.0\n",
    "  row.merge('soutai_gosa' => soutai_gosa, 'zettai_gosa' => zettai_gosa)\n",
    "end.to_a.to_df\n",
    "gosa_df.plot(\n",
    "  targets: [{x: 'x[m]', y: 'soutai_gosa'}],\n",
    "  options: {\n",
    "    xl: 'x[m]',\n",
    "    yl: 'error [%]'\n",
    "  },\n",
    "  file: 'graph/jikken_b_1_relative_error.png'\n",
    ")"
   ]
  },
  {
   "cell_type": "code",
   "execution_count": 21,
   "metadata": {},
   "outputs": [],
   "source": [
    "gosa_df.plot(\n",
    "  targets: [{x: 'x[m]', y: 'zettai_gosa', title: ''}],\n",
    "  options: {\n",
    "    xl: 'x[m]',\n",
    "    yl: 'error[A/m]'\n",
    "  },\n",
    "  file: 'graph/jikken_b_1_absolute_error.png'\n",
    ")"
   ]
  },
  {
   "cell_type": "code",
   "execution_count": 22,
   "metadata": {},
   "outputs": [
    {
     "data": {
      "text/plain": [
       "123.94453437927419"
      ]
     },
     "execution_count": 22,
     "metadata": {},
     "output_type": "execute_result"
    }
   ],
   "source": [
    "gosa_effected = gosa_df.select { |row| row['x[m]'] > 0.25 }.map { |row| row['zettai_gosa'] }.to_a\n",
    "jiba = gosa_effected.inject(:+)/gosa_effected.size"
   ]
  },
  {
   "cell_type": "code",
   "execution_count": 23,
   "metadata": {},
   "outputs": [],
   "source": [
    "hoge.map do |row|\n",
    "  zettai_gosa = (row['h_by_calc'] - row['h_by_jikken']).abs - jiba\n",
    "  soutai_gosa = zettai_gosa / row['h_by_calc'] * 100.0\n",
    "  row.merge('soutai_gosa' => soutai_gosa, 'zettai_gosa' => zettai_gosa)\n",
    "end.to_a.to_df.plot(\n",
    "  targets: [{x: 'x[m]', y: 'soutai_gosa', title: ''}],\n",
    "  options: {\n",
    "    xl: 'x[m]',\n",
    "    yl: 'relative error[%]'\n",
    "  },\n",
    "  file: 'graph/jikken_b_1_relative_error_with_offset.png'\n",
    ")"
   ]
  }
 ],
 "metadata": {
  "kernelspec": {
   "display_name": "Ruby 2.3.2",
   "language": "ruby",
   "name": "ruby"
  },
  "language_info": {
   "file_extension": ".rb",
   "mimetype": "application/x-ruby",
   "name": "ruby",
   "version": "2.3.2"
  }
 },
 "nbformat": 4,
 "nbformat_minor": 2
}
