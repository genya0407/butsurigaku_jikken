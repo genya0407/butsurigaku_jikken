{
 "cells": [
  {
   "cell_type": "code",
   "execution_count": 1,
   "metadata": {},
   "outputs": [
    {
     "data": {
      "text/plain": [
       ":to_plotly"
      ]
     },
     "execution_count": 1,
     "metadata": {},
     "output_type": "execute_result"
    }
   ],
   "source": [
    "require 'erb'\n",
    "require 'rbplotly'\n",
    "\n",
    "class String\n",
    "  def to_df\n",
    "    DF.new(self)\n",
    "  end\n",
    "end\n",
    "\n",
    "class DF < Array\n",
    "  attr_accessor :headers\n",
    "\n",
    "  def initialize(str)\n",
    "    @headers = str.lines.first.split(',').map(&:strip)\n",
    "    bodies = str.lines.drop(1).map { |line| line.split(',').map(&:strip).map(&:to_f) }\n",
    "    super(bodies.map do |row|\n",
    "      @headers.zip(row).to_h\n",
    "    end.to_a)\n",
    "  end  \n",
    "\n",
    "  def to_html\n",
    "    erb = ERB.new <<TEMPLATE\n",
    "<table>\n",
    "  <tr>\n",
    "  <% self.headers.each do |header| %>\n",
    "    <th><%= header %></th>\n",
    "  <% end %>\n",
    "  </tr>\n",
    "\n",
    "  <% self.each do |row| %>\n",
    "    <tr>\n",
    "    <% self.headers.each do |header| %>\n",
    "      <td><%= row[header] %></td>\n",
    "    <% end %>\n",
    "    </tr>\n",
    "  <% end %>\n",
    "</table>\n",
    "TEMPLATE\n",
    "    erb.result(binding)\n",
    "  end\n",
    "\n",
    "  def to_plotly(targets: [{ x: 'x', y: 'y' }], type: :scatter, mode: :markers, layout: {})\n",
    "    data = targets.map do |target|\n",
    "      x_axis_name = target[:x]\n",
    "      y_axis_name = target[:y]\n",
    "      xs = self.map { |row| row[x_axis_name] }\n",
    "      ys = self.map { |row| row[y_axis_name] }\n",
    "      trace = { x: xs, y: ys, type: type, mode: mode }\n",
    "\n",
    "      trace\n",
    "    end\n",
    "\n",
    "    Plotly::Plot.new(data: data, layout: layout)\n",
    "  end\n",
    "end"
   ]
  },
  {
   "cell_type": "code",
   "execution_count": 4,
   "metadata": {},
   "outputs": [],
   "source": [
    "jikken_b_1 = <<DATA.to_df\n",
    "x, vh\n",
    "0   , 48.181\n",
    "0.01, 48.064\n",
    "0.02, 47.871\n",
    "0.03, 47.605\n",
    "0.04, 47.401\n",
    "0.05, 47.242\n",
    "0.06, 47.102\n",
    "0.07, 46.702\n",
    "0.08, 46.612\n",
    "0.09, 46.172\n",
    "0.100, 45.651\n",
    "0.105, 45.153\n",
    "0.110, 44.489\n",
    "0.115, 43.653\n",
    "0.120, 42.527\n",
    "0.125, 41.123\n",
    "0.130, 39.102\n",
    "0.135, 36.342\n",
    "0.140, 32.784\n",
    "0.145, 28.525\n",
    "0.150, 23.331\n",
    "0.155, 18.245\n",
    "0.160, 14.124\n",
    "0.165, 10.892\n",
    "0.170, 8.687\n",
    "0.175, 6.891\n",
    "0.180, 5.655\n",
    "0.185, 4.682\n",
    "0.190, 3.973\n",
    "0.195, 3.374\n",
    "0.200, 2.947\n",
    "0.21, 2.091\n",
    "0.22, 1.642\n",
    "0.23, 1.341\n",
    "0.24, 1.142\n",
    "0.25, 0.973\n",
    "0.26, 0.851\n",
    "0.27, 0.751\n",
    "0.28, 0.682\n",
    "0.29, 0.637\n",
    "0.30, 0.594\n",
    "0.31, 0.546\n",
    "0.32, 0.517\n",
    "0.33, 0.493\n",
    "0.34, 0.474\n",
    "0.35, 0.465\n",
    "0.36, 0.447\n",
    "0.37, 0.422\n",
    "0.38, 0.413\n",
    "0.39, 0.413\n",
    "0.40, 0.404\n",
    "DATA\n",
    "nil"
   ]
  },
  {
   "cell_type": "code",
   "execution_count": 12,
   "metadata": {
    "collapsed": true
   },
   "outputs": [],
   "source": [
    "jikken_b_2 = <<DATA.to_df\n",
    "y, vh\n",
    "0,    -0.113\n",
    "0.01, -0.137\n",
    "0.02, -0.167\n",
    "0.04, -0.223\n",
    "0.06, -0.307\n",
    "0.08, -0.427\n",
    "0.10, -0.604\n",
    "0.11, -0.730\n",
    "0.12, -0.923\n",
    "0.13, -1.159\n",
    "0.14, -1.453\n",
    "0.15, -1.901\n",
    "0.16, -2.465\n",
    "0.17, -3.072\n",
    "0.18, -3.454\n",
    "0.19, -3.092\n",
    "0.195, -2.542\n",
    "0.200, -1.950\n",
    "0.205, -1.003\n",
    "0.210, -0.125\n",
    "0.215, 0.821\n",
    "0.220, 1.694\n",
    "0.225, 2.443\n",
    "0.230, 3.030\n",
    "0.235, 3.389\n",
    "0.24, 3.464\n",
    "0.25, 3.192\n",
    "0.26, 2.619\n",
    "0.27, 2.063\n",
    "0.28, 1.637\n",
    "0.29, 1.301\n",
    "0.30, 1.062\n",
    "0.31, 0.885\n",
    "0.32, 0.754\n",
    "0.34, 0.572\n",
    "0.36, 0.446\n",
    "0.38, 0.373\n",
    "0.40, 0.310\n",
    "DATA\n",
    "nil"
   ]
  },
  {
   "cell_type": "code",
   "execution_count": 37,
   "metadata": {},
   "outputs": [
    {
     "data": {
      "text/html": [
       "\n",
       "  <script>\n",
       "  requirejs.config({paths: { 'plotly': ['https://cdn.plot.ly/plotly-latest.min'] }})\n",
       "  </script>\n",
       "\n",
       "\n",
       "<div id=\"2b95da15-93be-47cc-a52b-8312b06f96be\" style=\"height: 100%; width: 100%;\"></div>\n",
       "\n",
       "<script>\n",
       " require(['plotly'], function(Plotly) { \n",
       "Plotly.newPlot(\n",
       "  '2b95da15-93be-47cc-a52b-8312b06f96be',\n",
       "  [{\"x\":[0.0,0.01,0.02,0.03,0.04,0.05,0.06,0.07,0.08,0.09,0.1,0.105,0.11,0.115,0.12,0.125,0.13,0.135,0.14,0.145,0.15,0.155,0.16,0.165,0.17,0.175,0.18,0.185,0.19,0.195,0.2,0.21,0.22,0.23,0.24,0.25,0.26,0.27,0.28,0.29,0.3,0.31,0.32,0.33,0.34,0.35,0.36,0.37,0.38,0.39,0.4],\"y\":[48.181,48.064,47.871,47.605,47.401,47.242,47.102,46.702,46.612,46.172,45.651,45.153,44.489,43.653,42.527,41.123,39.102,36.342,32.784,28.525,23.331,18.245,14.124,10.892,8.687,6.891,5.655,4.682,3.973,3.374,2.947,2.091,1.642,1.341,1.142,0.973,0.851,0.751,0.682,0.637,0.594,0.546,0.517,0.493,0.474,0.465,0.447,0.422,0.413,0.413,0.404],\"type\":\"scatter\",\"mode\":\"markers\"}],\n",
       "  {\"title\":\"x-Vh\",\"xaxis\":{\"title\":\"x[m]\"},\"yaxis\":{\"title\":\"Vh[mV]\"},\"height\":400},\n",
       "  {\"linkText\":\"Export to plot.ly\",\"showLink\":true}\n",
       ")\n",
       "\n",
       "window.addEventListener('resize', function() {\n",
       "  Plotly.Plots.resize(document.getElementById('2b95da15-93be-47cc-a52b-8312b06f96be'))\n",
       "})\n",
       " }) \n",
       "</script>"
      ],
      "text/plain": [
       "#<Plotly::Offline::HTML:0x007f97099f4730 @id=\"2b95da15-93be-47cc-a52b-8312b06f96be\", @data=[{:x=>[0.0, 0.01, 0.02, 0.03, 0.04, 0.05, 0.06, 0.07, 0.08, 0.09, 0.1, 0.105, 0.11, 0.115, 0.12, 0.125, 0.13, 0.135, 0.14, 0.145, 0.15, 0.155, 0.16, 0.165, 0.17, 0.175, 0.18, 0.185, 0.19, 0.195, 0.2, 0.21, 0.22, 0.23, 0.24, 0.25, 0.26, 0.27, 0.28, 0.29, 0.3, 0.31, 0.32, 0.33, 0.34, 0.35, 0.36, 0.37, 0.38, 0.39, 0.4], :y=>[48.181, 48.064, 47.871, 47.605, 47.401, 47.242, 47.102, 46.702, 46.612, 46.172, 45.651, 45.153, 44.489, 43.653, 42.527, 41.123, 39.102, 36.342, 32.784, 28.525, 23.331, 18.245, 14.124, 10.892, 8.687, 6.891, 5.655, 4.682, 3.973, 3.374, 2.947, 2.091, 1.642, 1.341, 1.142, 0.973, 0.851, 0.751, 0.682, 0.637, 0.594, 0.546, 0.517, 0.493, 0.474, 0.465, 0.447, 0.422, 0.413, 0.413, 0.404], :type=>:scatter, :mode=>:markers}], @layout={:title=>\"x-Vh\", :xaxis=>{:title=>\"x[m]\"}, :yaxis=>{:title=>\"Vh[mV]\"}, :height=>400}, @config={:linkText=>\"Export to plot.ly\", :showLink=>true}, @embedded=true>"
      ]
     },
     "metadata": {},
     "output_type": "display_data"
    },
    {
     "data": {
      "text/plain": [
       "#<CZTop::Socket::PUB:0x7f970bf880e0 last_endpoint=\"tcp://127.0.0.1:62622\">"
      ]
     },
     "execution_count": 37,
     "metadata": {},
     "output_type": "execute_result"
    }
   ],
   "source": [
    "jikken_b_1.to_plotly(\n",
    "  targets: [{ x: 'x', y: 'vh' }],\n",
    "  layout: {\n",
    "    title: 'x-Vh',\n",
    "    height: 400,\n",
    "    xaxis: { title: 'x[m]' },\n",
    "    yaxis: { title: 'Vh[mV]' }\n",
    "    }\n",
    ").show"
   ]
  },
  {
   "cell_type": "code",
   "execution_count": 42,
   "metadata": {},
   "outputs": [
    {
     "data": {
      "text/html": [
       "\n",
       "  <script>\n",
       "  requirejs.config({paths: { 'plotly': ['https://cdn.plot.ly/plotly-latest.min'] }})\n",
       "  </script>\n",
       "\n",
       "\n",
       "<div id=\"4c8269ad-1de6-4f54-afff-df596706d7ef\" style=\"height: 100%; width: 100%;\"></div>\n",
       "\n",
       "<script>\n",
       " require(['plotly'], function(Plotly) { \n",
       "Plotly.newPlot(\n",
       "  '4c8269ad-1de6-4f54-afff-df596706d7ef',\n",
       "  [{\"x\":[0.0,0.01,0.02,0.04,0.06,0.08,0.1,0.11,0.12,0.13,0.14,0.15,0.16,0.17,0.18,0.19,0.195,0.2,0.205,0.21,0.215,0.22,0.225,0.23,0.235,0.24,0.25,0.26,0.27,0.28,0.29,0.3,0.31,0.32,0.34,0.36,0.38,0.4],\"y\":[-0.113,-0.137,-0.167,-0.223,-0.307,-0.427,-0.604,-0.73,-0.923,-1.159,-1.453,-1.901,-2.465,-3.072,-3.454,-3.092,-2.542,-1.95,-1.003,-0.125,0.821,1.694,2.443,3.03,3.389,3.464,3.192,2.619,2.063,1.637,1.301,1.062,0.885,0.754,0.572,0.446,0.373,0.31],\"type\":\"scatter\",\"mode\":\"markers\"}],\n",
       "  {\"title\":\"y-Vh\",\"xaxis\":{\"title\":\"y[m]\",\"dtick\":0.1},\"yaxis\":{\"title\":\"Vh[mV]\",\"range\":[-4,5]},\"height\":400},\n",
       "  {\"linkText\":\"Export to plot.ly\",\"showLink\":true}\n",
       ")\n",
       "\n",
       "window.addEventListener('resize', function() {\n",
       "  Plotly.Plots.resize(document.getElementById('4c8269ad-1de6-4f54-afff-df596706d7ef'))\n",
       "})\n",
       " }) \n",
       "</script>"
      ],
      "text/plain": [
       "#<Plotly::Offline::HTML:0x007f970a6db958 @id=\"4c8269ad-1de6-4f54-afff-df596706d7ef\", @data=[{:x=>[0.0, 0.01, 0.02, 0.04, 0.06, 0.08, 0.1, 0.11, 0.12, 0.13, 0.14, 0.15, 0.16, 0.17, 0.18, 0.19, 0.195, 0.2, 0.205, 0.21, 0.215, 0.22, 0.225, 0.23, 0.235, 0.24, 0.25, 0.26, 0.27, 0.28, 0.29, 0.3, 0.31, 0.32, 0.34, 0.36, 0.38, 0.4], :y=>[-0.113, -0.137, -0.167, -0.223, -0.307, -0.427, -0.604, -0.73, -0.923, -1.159, -1.453, -1.901, -2.465, -3.072, -3.454, -3.092, -2.542, -1.95, -1.003, -0.125, 0.821, 1.694, 2.443, 3.03, 3.389, 3.464, 3.192, 2.619, 2.063, 1.637, 1.301, 1.062, 0.885, 0.754, 0.572, 0.446, 0.373, 0.31], :type=>:scatter, :mode=>:markers}], @layout={:title=>\"y-Vh\", :xaxis=>{:title=>\"y[m]\", :dtick=>0.1}, :yaxis=>{:title=>\"Vh[mV]\", :range=>[-4, 5]}, :height=>400}, @config={:linkText=>\"Export to plot.ly\", :showLink=>true}, @embedded=true>"
      ]
     },
     "metadata": {},
     "output_type": "display_data"
    },
    {
     "data": {
      "text/plain": [
       "#<CZTop::Socket::PUB:0x7f970bf880e0 last_endpoint=\"tcp://127.0.0.1:62622\">"
      ]
     },
     "execution_count": 42,
     "metadata": {},
     "output_type": "execute_result"
    }
   ],
   "source": [
    "jikken_b_2.to_plotly(\n",
    "  targets: [{ x: 'y', y: 'vh' }],\n",
    "  layout: {\n",
    "    title: 'y-Vh',\n",
    "    height: 400,\n",
    "    xaxis: { title: 'y[m]'  , dtick: 0.1 },\n",
    "    yaxis: { title: 'Vh[mV]', range: [-4, 5] } }\n",
    ").show"
   ]
  },
  {
   "cell_type": "code",
   "execution_count": null,
   "metadata": {
    "collapsed": true
   },
   "outputs": [],
   "source": []
  }
 ],
 "metadata": {
  "kernelspec": {
   "display_name": "Ruby 2.3.2",
   "language": "ruby",
   "name": "ruby"
  },
  "language_info": {
   "file_extension": ".rb",
   "mimetype": "application/x-ruby",
   "name": "ruby",
   "version": "2.3.2"
  }
 },
 "nbformat": 4,
 "nbformat_minor": 2
}
